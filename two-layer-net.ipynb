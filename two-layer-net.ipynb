{
 "metadata": {
  "name": "",
  "signature": "sha256:0bda07e2232c635be9450b76f567ac7b9aea9bd76ddc61fc1ae74a6920af9d1e"
 },
 "nbformat": 3,
 "nbformat_minor": 0,
 "worksheets": [
  {
   "cells": [
    {
     "cell_type": "code",
     "collapsed": false,
     "input": [
      "import random\n",
      "import numpy as np\n",
      "from cs231n.data_utils import load_CIFAR10\n",
      "import matplotlib.pyplot as plt\n",
      "%matplotlib inline\n",
      "plt.rcParams['figure.figsize'] = (10.0, 8.0) # set default size of plots\n",
      "plt.rcParams['image.interpolation'] = 'nearest'\n",
      "plt.rcParams['image.cmap'] = 'gray'\n",
      "\n",
      "# for auto-reloading extenrnal modules\n",
      "# see http://stackoverflow.com/questions/1907993/autoreload-of-modules-in-ipython\n",
      "%load_ext autoreload\n",
      "%autoreload 2"
     ],
     "language": "python",
     "metadata": {},
     "outputs": [],
     "prompt_number": 1
    },
    {
     "cell_type": "code",
     "collapsed": false,
     "input": [],
     "language": "python",
     "metadata": {},
     "outputs": []
    },
    {
     "cell_type": "code",
     "collapsed": false,
     "input": [
      "def get_CIFAR10_data(num_training=49000, num_validation=1000, num_test=1000):\n",
      "  \"\"\"\n",
      "  Load the CIFAR-10 dataset from disk and perform preprocessing to prepare\n",
      "  it for the linear classifier. These are the same steps as we used for the\n",
      "  SVM, but condensed to a single function.  \n",
      "  \"\"\"\n",
      "  # Load the raw CIFAR-10 data\n",
      "  cifar10_dir = 'cs231n/datasets/cifar-10-batches-py'\n",
      "  X_train, y_train, X_test, y_test = load_CIFAR10(cifar10_dir)\n",
      "  \n",
      "  # subsample the data\n",
      "  mask = range(num_training, num_training + num_validation)\n",
      "  X_val = X_train[mask]\n",
      "  y_val = y_train[mask]\n",
      "  mask = range(num_training)\n",
      "  X_train = X_train[mask]\n",
      "  y_train = y_train[mask]\n",
      "  mask = range(num_test)\n",
      "  X_test = X_test[mask]\n",
      "  y_test = y_test[mask]\n",
      "  \n",
      "  # Preprocessing: reshape the image data into rows\n",
      "  X_train = np.reshape(X_train, (X_train.shape[0], -1))\n",
      "  X_val = np.reshape(X_val, (X_val.shape[0], -1))\n",
      "  X_test = np.reshape(X_test, (X_test.shape[0], -1))\n",
      "  \n",
      "  # Normalize the data: subtract the mean image\n",
      "  mean_image = np.mean(X_train, axis = 0)\n",
      "  X_train -= mean_image\n",
      "  X_val -= mean_image\n",
      "  X_test -= mean_image\n",
      "  \n",
      "  # add bias dimension and transform into columns\n",
      "  X_train = np.hstack([X_train, np.ones((X_train.shape[0], 1))]).T\n",
      "  X_val = np.hstack([X_val, np.ones((X_val.shape[0], 1))]).T\n",
      "  X_test = np.hstack([X_test, np.ones((X_test.shape[0], 1))]).T\n",
      "  \n",
      "  return X_train, y_train, X_val, y_val, X_test, y_test\n",
      "\n",
      "\n",
      "# Invoke the above function to get our data.\n",
      "X_train, y_train, X_val, y_val, X_test, y_test = get_CIFAR10_data()\n",
      "print 'Train data shape: ', X_train.shape\n",
      "print 'Train labels shape: ', y_train.shape\n",
      "print 'Validation data shape: ', X_val.shape\n",
      "print 'Validation labels shape: ', y_val.shape\n",
      "print 'Test data shape: ', X_test.shape\n",
      "print 'Test labels shape: ', y_test.shape"
     ],
     "language": "python",
     "metadata": {},
     "outputs": [
      {
       "output_type": "stream",
       "stream": "stdout",
       "text": [
        "Train data shape:  (3073, 49000)\n",
        "Train labels shape:  (49000,)\n",
        "Validation data shape:  (3073, 1000)\n",
        "Validation labels shape:  (1000,)\n",
        "Test data shape:  (3073, 1000)\n",
        "Test labels shape:  (1000,)\n"
       ]
      }
     ],
     "prompt_number": 2
    },
    {
     "cell_type": "code",
     "collapsed": false,
     "input": [
      "def one_hot(x,n):\n",
      "    if type(x) == list: x = np.array(x)\n",
      "    x = x.flatten()\n",
      "    o_h = np.zeros((len(x),n))\n",
      "    o_h[np.arange(len(x)),x] = 1\n",
      "    return o_h"
     ],
     "language": "python",
     "metadata": {},
     "outputs": [],
     "prompt_number": 3
    },
    {
     "cell_type": "code",
     "collapsed": false,
     "input": [
      "y_train_o_h = one_hot(y_train,10)\n",
      "y_val_o_h = one_hot(y_val,10)\n",
      "y_test_o_h = one_hot(y_test,10)\n",
      "print 'Train labels shape: ', y_train_o_h.shape\n",
      "print 'Train labels shape: ', y_val_o_h.shape\n",
      "print 'Train labels shape: ', y_test_o_h.shape\n",
      "\n",
      "X_train_t = np.transpose(X_train)\n",
      "X_val_t = np.transpose(X_val)\n",
      "X_test_t = np.transpose(X_test)\n",
      "print 'Train data shape: ', X_train_t.shape\n",
      "print 'Validation data shape: ', X_val_t.shape\n",
      "print 'Test data shape: ', X_test_t.shape"
     ],
     "language": "python",
     "metadata": {},
     "outputs": [
      {
       "output_type": "stream",
       "stream": "stdout",
       "text": [
        "Train labels shape:  (49000, 10)\n",
        "Train labels shape:  (1000, 10)\n",
        "Train labels shape:  (1000, 10)\n",
        "Train data shape:  (49000, 3073)\n",
        "Validation data shape:  (1000, 3073)\n",
        "Test data shape:  (1000, 3073)\n"
       ]
      }
     ],
     "prompt_number": 4
    },
    {
     "cell_type": "code",
     "collapsed": false,
     "input": [
      "import theano\n",
      "from theano import tensor as T"
     ],
     "language": "python",
     "metadata": {},
     "outputs": [
      {
       "output_type": "stream",
       "stream": "stderr",
       "text": [
        "Using gpu device 0: GRID K520\n"
       ]
      }
     ],
     "prompt_number": 7
    },
    {
     "cell_type": "code",
     "collapsed": false,
     "input": [
      "def floatX(X):\n",
      "    return np.asarray(X, dtype=theano.config.floatX)\n",
      "\n",
      "def init_weights(shape, factor=0.00001):\n",
      "    return theano.shared(floatX(np.random.randn(*shape) * factor))\n",
      "\n",
      "def sgd(cost, params, lr=8.910000e-07):\n",
      "    grads = T.grad(cost=cost, wrt=params)\n",
      "    updates = []\n",
      "    for p, g in zip(params, grads):\n",
      "        updates.append([p, p - g * lr])\n",
      "    return updates\n",
      "\n",
      "def model(X, w_h, w_o):\n",
      "    h = T.nnet.hard_sigmoid(T.dot(X, w_h))\n",
      "    return T.nnet.softmax(T.dot(h, w_o))"
     ],
     "language": "python",
     "metadata": {},
     "outputs": [],
     "prompt_number": 8
    },
    {
     "cell_type": "code",
     "collapsed": false,
     "input": [
      "X = T.fmatrix()\n",
      "Y = T.fmatrix()\n",
      "\n",
      "w_h = init_weights((3073, 70))\n",
      "w_o = init_weights((70, 10))\n",
      "\n",
      "py_x = model(X, w_h, w_o)\n",
      "y_pred = T.argmax(py_x, axis=1)\n"
     ],
     "language": "python",
     "metadata": {},
     "outputs": [],
     "prompt_number": 9
    },
    {
     "cell_type": "code",
     "collapsed": false,
     "input": [
      "#cost = T.mean(T.nnet.categorical_crossentropy(py_x, Y)) + 0.5 * 2.610000e+01 * ((w_h * w_h).sum() + (w_o * w_o).sum())\n",
      "cost = T.mean(T.nnet.categorical_crossentropy(py_x, Y))\n",
      "params = [w_h, w_o]\n",
      "updates = sgd(cost, params, lr=0.01)"
     ],
     "language": "python",
     "metadata": {},
     "outputs": [],
     "prompt_number": 12
    },
    {
     "cell_type": "code",
     "collapsed": false,
     "input": [
      "train = theano.function(inputs=[X, Y], outputs=cost, updates=updates, allow_input_downcast=True)\n",
      "predict = theano.function(inputs=[X], outputs=y_pred, allow_input_downcast=True)"
     ],
     "language": "python",
     "metadata": {},
     "outputs": [],
     "prompt_number": 13
    },
    {
     "cell_type": "code",
     "collapsed": false,
     "input": [
      "print \"Initial Error:\", np.mean(np.argmax(y_test_o_h, axis=1) == predict(X_test_t))\n",
      "for i in range(20):\n",
      "    for start, end in zip(range(0, len(X_train_t), 128), range(128, len(X_train_t), 128)):\n",
      "        cost = train(X_train_t[start:end], y_train_o_h[start:end])\n",
      "    print i, np.mean(np.argmax(y_test_o_h, axis=1) == predict(X_test_t))"
     ],
     "language": "python",
     "metadata": {},
     "outputs": [
      {
       "output_type": "stream",
       "stream": "stdout",
       "text": [
        "Initial Error: 0.382\n",
        "0"
       ]
      },
      {
       "output_type": "stream",
       "stream": "stdout",
       "text": [
        " 0.389\n",
        "1"
       ]
      },
      {
       "output_type": "stream",
       "stream": "stdout",
       "text": [
        " 0.39\n",
        "2"
       ]
      },
      {
       "output_type": "stream",
       "stream": "stdout",
       "text": [
        " 0.397\n",
        "3"
       ]
      },
      {
       "output_type": "stream",
       "stream": "stdout",
       "text": [
        " 0.406\n",
        "4"
       ]
      },
      {
       "output_type": "stream",
       "stream": "stdout",
       "text": [
        " 0.4\n",
        "5"
       ]
      },
      {
       "output_type": "stream",
       "stream": "stdout",
       "text": [
        " 0.383\n",
        "6"
       ]
      },
      {
       "output_type": "stream",
       "stream": "stdout",
       "text": [
        " 0.369\n",
        "7"
       ]
      },
      {
       "output_type": "stream",
       "stream": "stdout",
       "text": [
        " 0.4\n",
        "8"
       ]
      },
      {
       "output_type": "stream",
       "stream": "stdout",
       "text": [
        " 0.399\n",
        "9"
       ]
      },
      {
       "output_type": "stream",
       "stream": "stdout",
       "text": [
        " 0.379\n",
        "10"
       ]
      },
      {
       "output_type": "stream",
       "stream": "stdout",
       "text": [
        " 0.368\n",
        "11"
       ]
      },
      {
       "output_type": "stream",
       "stream": "stdout",
       "text": [
        " 0.396\n",
        "12"
       ]
      },
      {
       "output_type": "stream",
       "stream": "stdout",
       "text": [
        " 0.38\n",
        "13"
       ]
      },
      {
       "output_type": "stream",
       "stream": "stdout",
       "text": [
        " 0.387\n",
        "14"
       ]
      },
      {
       "output_type": "stream",
       "stream": "stdout",
       "text": [
        " 0.4\n",
        "15"
       ]
      },
      {
       "output_type": "stream",
       "stream": "stdout",
       "text": [
        " 0.399\n",
        "16"
       ]
      },
      {
       "output_type": "stream",
       "stream": "stdout",
       "text": [
        " 0.389\n",
        "17"
       ]
      },
      {
       "output_type": "stream",
       "stream": "stdout",
       "text": [
        " 0.405\n",
        "18"
       ]
      },
      {
       "output_type": "stream",
       "stream": "stdout",
       "text": [
        " 0.385\n",
        "19"
       ]
      },
      {
       "output_type": "stream",
       "stream": "stdout",
       "text": [
        " 0.414\n"
       ]
      }
     ],
     "prompt_number": 15
    },
    {
     "cell_type": "code",
     "collapsed": false,
     "input": [
      "def evaluate(n_hidden_units, learning_rate, num_epochs, regularization_strength):\n",
      "    X = T.fmatrix()\n",
      "    Y = T.fmatrix()\n",
      "    w_h = init_weights((3073, n_hidden_units))\n",
      "    w_o = init_weights((n_hidden_units, 10))\n",
      "    py_x = model(X, w_h, w_o)\n",
      "    y_pred = T.argmax(py_x, axis=1)\n",
      "    cost = T.mean(T.nnet.categorical_crossentropy(py_x, Y)) + 0.5 * regularization_strength * ((w_h * w_h).sum() + (w_o * w_o).sum())\n",
      "    params = [w_h, w_o]\n",
      "    updates = sgd(cost, params, lr=learning_rate)\n",
      "    train = theano.function(inputs=[X, Y], outputs=cost, updates=updates, allow_input_downcast=True)\n",
      "    predict = theano.function(inputs=[X], outputs=y_pred, allow_input_downcast=True)\n",
      "    for i in range(num_epochs):\n",
      "        for start, end in zip(range(0, len(X_train_t), 128), range(128, len(X_train_t), 128)):\n",
      "            cost = train(X_train_t[start:end], y_train_o_h[start:end])\n",
      "    return np.mean(np.argmax(y_val_o_h, axis=1) == predict(X_val_t))    "
     ],
     "language": "python",
     "metadata": {},
     "outputs": []
    },
    {
     "cell_type": "code",
     "collapsed": false,
     "input": [
      "results = {}\n",
      "settings = {}\n",
      "best_val = -1"
     ],
     "language": "python",
     "metadata": {},
     "outputs": [],
     "prompt_number": 20
    },
    {
     "cell_type": "code",
     "collapsed": false,
     "input": [
      "cnt = 0\n",
      "while cnt < 10:\n",
      "    # Best Settings: # hidden units = 300, lr = 0.004318, # epochs = 6, reg = 0.1245 -->> 0.428\n",
      "    # Best Settings: # hidden units = 500, lr = 0.00517, # epochs = 6, reg = 0.0835 -->> 0.434\n",
      "    cnt += 1\n",
      "    n_hidden_units = np.random.choice(range(300,650,50))\n",
      "    #n_hidden_units = 250\n",
      "    learning_rate = np.random.uniform(0.002, 0.0075)\n",
      "    #learning_rate = 0.008\n",
      "    #num_epochs = np.random.choice(range(10,60,10))\n",
      "    num_epochs = 6\n",
      "    regularization_strength = np.random.uniform(0.075, 0.15)\n",
      "    #regularization_strength = 0.04\n",
      "\n",
      "    print \"%d. evaluating: # hidden units = %d, lr = %0.4g, # epochs = %d, reg = %0.4g\" % (cnt, n_hidden_units, learning_rate, num_epochs, regularization_strength),\n",
      "    val = evaluate(n_hidden_units, learning_rate, num_epochs, regularization_strength)\n",
      "    if val > best_val:\n",
      "        best_val = val\n",
      "        settings[best_val] = [n_hidden_units, learning_rate, num_epochs, regularization_strength]\n",
      "    print \"--->>>\", val\n",
      "best = settings[best_val]\n",
      "print \"\\n-----\\nBest Settings: # hidden units = %d, lr = %0.4g, # epochs = %d, reg = %0.4g -->> %0.3f\" % (\n",
      "    best[0], best[1], best[2], best[3], best_val)"
     ],
     "language": "python",
     "metadata": {},
     "outputs": [
      {
       "output_type": "stream",
       "stream": "stdout",
       "text": [
        "1. evaluating: # hidden units = 300, lr = 0.003256, # epochs = 6, reg = 0.08878 "
       ]
      },
      {
       "output_type": "stream",
       "stream": "stdout",
       "text": [
        "--->>> 0.411\n",
        "2. evaluating: # hidden units = 500, lr = 0.003093, # epochs = 6, reg = 0.09709 "
       ]
      },
      {
       "output_type": "stream",
       "stream": "stdout",
       "text": [
        "--->>> 0.433\n",
        "3. evaluating: # hidden units = 450, lr = 0.006799, # epochs = 6, reg = 0.1111 "
       ]
      },
      {
       "output_type": "stream",
       "stream": "stdout",
       "text": [
        "--->>> 0.432\n",
        "4. evaluating: # hidden units = 400, lr = 0.002457, # epochs = 6, reg = 0.1383 "
       ]
      },
      {
       "output_type": "stream",
       "stream": "stdout",
       "text": [
        "--->>> 0.415\n",
        "5. evaluating: # hidden units = 250, lr = 0.005743, # epochs = 6, reg = 0.1113 "
       ]
      },
      {
       "output_type": "stream",
       "stream": "stdout",
       "text": [
        "--->>> 0.405\n",
        "6. evaluating: # hidden units = 250, lr = 0.005797, # epochs = 6, reg = 0.08944 "
       ]
      },
      {
       "output_type": "stream",
       "stream": "stdout",
       "text": [
        "--->>> 0.412\n",
        "7. evaluating: # hidden units = 350, lr = 0.002098, # epochs = 6, reg = 0.1352 "
       ]
      },
      {
       "output_type": "stream",
       "stream": "stdout",
       "text": [
        "--->>> 0.411\n",
        "8. evaluating: # hidden units = 500, lr = 0.00517, # epochs = 6, reg = 0.0835 "
       ]
      },
      {
       "output_type": "stream",
       "stream": "stdout",
       "text": [
        "--->>> 0.434\n",
        "9. evaluating: # hidden units = 350, lr = 0.002256, # epochs = 6, reg = 0.1063 "
       ]
      },
      {
       "output_type": "stream",
       "stream": "stdout",
       "text": [
        "--->>> 0.406\n",
        "10. evaluating: # hidden units = 450, lr = 0.003923, # epochs = 6, reg = 0.1394 "
       ]
      },
      {
       "output_type": "stream",
       "stream": "stdout",
       "text": [
        "--->>> 0.429\n",
        "\n",
        "-----\n",
        "Best Settings: # hidden units = 500, lr = 0.00517, # epochs = 6, reg = 0.0835 -->> 0.434\n"
       ]
      }
     ],
     "prompt_number": 26
    },
    {
     "cell_type": "code",
     "collapsed": false,
     "input": [
      "val = evaluate(500, 0.006, 100, 0.1)\n",
      "print val"
     ],
     "language": "python",
     "metadata": {},
     "outputs": [
      {
       "output_type": "stream",
       "stream": "stdout",
       "text": [
        "0.447\n"
       ]
      }
     ],
     "prompt_number": 27
    },
    {
     "cell_type": "code",
     "collapsed": false,
     "input": [],
     "language": "python",
     "metadata": {},
     "outputs": []
    }
   ],
   "metadata": {}
  }
 ]
}